{
 "cells": [
  {
   "cell_type": "code",
   "execution_count": null,
   "metadata": {},
   "outputs": [
    {
     "ename": "NameError",
     "evalue": "name 'p_in' is not defined",
     "output_type": "error",
     "traceback": [
      "\u001b[0;31m---------------------------------------------------------------------------\u001b[0m",
      "\u001b[0;31mNameError\u001b[0m                                 Traceback (most recent call last)",
      "\u001b[1;32m/home/johan/Documents/LH2-evaporation/1D_model.ipynb Cell 1\u001b[0m line \u001b[0;36m1\n\u001b[1;32m     <a href='vscode-notebook-cell://wsl%2Bubuntu/home/johan/Documents/LH2-evaporation/1D_model.ipynb#W0sdnNjb2RlLXJlbW90ZQ%3D%3D?line=15'>16</a>\u001b[0m R \u001b[39m=\u001b[39m \u001b[39m287.05\u001b[39m              \u001b[39m# Individual gas constant for air [J/(kg*K)]\u001b[39;00m\n\u001b[1;32m     <a href='vscode-notebook-cell://wsl%2Bubuntu/home/johan/Documents/LH2-evaporation/1D_model.ipynb#W0sdnNjb2RlLXJlbW90ZQ%3D%3D?line=16'>17</a>\u001b[0m q_dot \u001b[39m=\u001b[39m \u001b[39m700\u001b[39m             \u001b[39m# Heating source [W/m^3]  \u001b[39;00m\n\u001b[0;32m---> <a href='vscode-notebook-cell://wsl%2Bubuntu/home/johan/Documents/LH2-evaporation/1D_model.ipynb#W0sdnNjb2RlLXJlbW90ZQ%3D%3D?line=17'>18</a>\u001b[0m rho_in \u001b[39m=\u001b[39m p_in\u001b[39m/\u001b[39m(R\u001b[39m*\u001b[39mT_in)  \u001b[39m# [kg/m^3] \u001b[39;00m\n\u001b[1;32m     <a href='vscode-notebook-cell://wsl%2Bubuntu/home/johan/Documents/LH2-evaporation/1D_model.ipynb#W0sdnNjb2RlLXJlbW90ZQ%3D%3D?line=19'>20</a>\u001b[0m x \u001b[39m=\u001b[39m np\u001b[39m.\u001b[39mlinspace(\u001b[39m0\u001b[39m, L, nx)\n\u001b[1;32m     <a href='vscode-notebook-cell://wsl%2Bubuntu/home/johan/Documents/LH2-evaporation/1D_model.ipynb#W0sdnNjb2RlLXJlbW90ZQ%3D%3D?line=20'>21</a>\u001b[0m rho \u001b[39m=\u001b[39m np\u001b[39m.\u001b[39mones(x\u001b[39m.\u001b[39msize)\u001b[39m*\u001b[39mrho_in\n",
      "\u001b[0;31mNameError\u001b[0m: name 'p_in' is not defined"
     ]
    }
   ],
   "source": [
    "import numpy as np\n",
    "import matplotlib.pyplot as plt\n",
    "from scipy.integrate import odeint\n",
    "\n",
    "L = 0.1         # [m]\n",
    "A_c = 1         # Cross-sectional area [m^2]\n",
    "nx = 100        # [-]\n",
    "\n",
    "\n",
    "U_in = 0.01     # [m/s]\n",
    "p_atm = 1.035e5 # [Pa]\n",
    "T_in = 300      # [K]\n",
    "\n",
    "c_p = 700               # [J/(kg*K)]\n",
    "kappa = 0.003           # [W/(m*K)]\n",
    "R = 287.05              # Individual gas constant for air [J/(kg*K)]\n",
    "q_dot = 700             # Heating source [W/m^3]  \n",
    "rho_in = p_atm/(R*T_in)  # [kg/m^3] \n",
    "\n",
    "x = np.linspace(0, L, nx)\n",
    "rho = np.ones(x.size)*rho_in\n",
    "u = np.ones(x.size)*U_in\n",
    "h = np.ones(x.size)*T_in*c_p\n",
    "p = np.ones(x.size)*p_atm\n",
    "T = np.ones(x.size)*T_in \n",
    "\n",
    "print(rho_in)\n",
    "\n",
    "for i in range(500):\n",
    "    pass"
   ]
  }
 ],
 "metadata": {
  "kernelspec": {
   "display_name": "Python 3",
   "language": "python",
   "name": "python3"
  },
  "language_info": {
   "codemirror_mode": {
    "name": "ipython",
    "version": 3
   },
   "file_extension": ".py",
   "mimetype": "text/x-python",
   "name": "python",
   "nbconvert_exporter": "python",
   "pygments_lexer": "ipython3",
   "version": "3.10.6"
  }
 },
 "nbformat": 4,
 "nbformat_minor": 2
}
