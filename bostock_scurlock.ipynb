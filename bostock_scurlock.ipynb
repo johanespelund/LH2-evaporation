{
 "cells": [
  {
   "cell_type": "markdown",
   "metadata": {},
   "source": [
    "# Modelling cryogenic evaporation\n",
    "\n",
    "This notebook implements the 3-region cryogenic model that is presented in [Bostock and Scurlock, 2019](https://link.springer.com/book/10.1007/978-3-030-10641-6). It can be described as follows.\n",
    "The three layers are\n",
    "1. A molecular evaporation region at the surface which is probably no more than 1–2 lm in thickness, but appearing to extend to 50–100 lm in practice, \n",
    "as the capillary film remains attached to the thermocouple junction by surface tension forces when the liquid surface falls below it. \n",
    "2. A thermal conduction region enhanced by some convection, about 400 lm thick, with an extraordinarily high temperature gradient. \n",
    "3. An intermittent convection region, about 5000 lm or 5 mm thick, with a small temperature gradient, which contains the bulk of the observed thermal spikes. \n",
    "The thermal spikes also extend into region 2, but rapidly reduce in intensity as the surface is approached.\n",
    "\n",
    "## Region 1\n",
    "We start with the first region, which is called the molecular evaporation region. This region is around 1-2 $\\mathrm{\\mu m}$ thick. Here, the evaporation rate is given as\n",
    "\n",
    "$$\n",
    "\\dot{m} = 90\\alpha(T_s - T_0)\n",
    "$$,\n",
    "\n",
    "or expressed as the heat transfer rate,\n",
    "\n",
    "$$\n",
    "\\dot{q} = \\lambda \\dot{m} = 90\\lambda\\alpha(T_s - T_0) = \\lambda \\frac{(T_s - T_0) }{R_1}\n",
    "$$,\n",
    "\n",
    "where $T_s$ is the temperature of the vapour/liquid interface, $T_0$ is the saturation temperature, $\\lambda$ is the latent heat of evaporation and $\\alpha$ is the molecular evaporation coefficient. For LIN, the resistance is on the order of $10^-3$."
   ]
  },
  {
   "cell_type": "code",
   "execution_count": 1,
   "metadata": {},
   "outputs": [
    {
     "name": "stdout",
     "output_type": "stream",
     "text": [
      "R_1 =  1.11e+01\n"
     ]
    }
   ],
   "source": [
    "dH_vap = 199e3      # [J/kg]\n",
    "alpha = 10**-3      # (check!)\n",
    "R_1 = (90*alpha)**-1\n",
    "delta_1 = 1e-6\n",
    "print(f\"R_1 = {R_1: .2e}\")"
   ]
  },
  {
   "cell_type": "markdown",
   "metadata": {},
   "source": [
    "\n",
    "\n",
    "## Region 2\n",
    "\n",
    "In this, the major temperature drop occurs across a liquid layer of approximately 400 $\\mu\\mathrm{m}$ thickness with an extraordinarily high temperature gradient of 5000–7500 K/m.\n",
    "\n",
    "$$\n",
    "\\dot{q} = \\lambda \\dot{m} = \\mathrm{k_{eff,2}} dT/dz = \\mathrm{k_{eff,2}}(T_c - T_s)/\\delta_2 = \\lambda \\frac{(T_c - T_s) }{R_2}\n",
    "$$\n"
   ]
  },
  {
   "cell_type": "code",
   "execution_count": 2,
   "metadata": {},
   "outputs": [
    {
     "name": "stdout",
     "output_type": "stream",
     "text": [
      "R_2 =  2.15e+02\n"
     ]
    }
   ],
   "source": [
    "k_eff_2 = 370e-3    # [W/(m*K)]\n",
    "delta_2 = 400e-6    # [m]\n",
    "R_2 = dH_vap*delta_2/k_eff_2\n",
    "print(f\"R_2 = {R_2: .2e}\")"
   ]
  },
  {
   "cell_type": "markdown",
   "metadata": {},
   "source": [
    "\n",
    "## Region 3\n",
    "\n",
    "In region 3, the depth interval 0.2–5 mm, the temperature difference across this relatively thick layer is only 0.25 K corresponding to a mean temperature gradient of about 50 K/m, much smaller than in the region 2.\n",
    "\n",
    "We use the same formulation for the evaporation rate as in region 2, namely,\n",
    "\n",
    "$$\n",
    "\\dot{q} = \\lambda \\dot{m} = \\mathrm{k_{eff,3}} dT/dz = \\mathrm{k_{eff,3}}(T_b - T_c)/\\delta_3 = \\lambda \\frac{(T_b - T_c) }{R_3}\n",
    "$$\n"
   ]
  },
  {
   "cell_type": "code",
   "execution_count": 3,
   "metadata": {},
   "outputs": [
    {
     "name": "stdout",
     "output_type": "stream",
     "text": [
      "R_3 =  2.07e+01\n"
     ]
    }
   ],
   "source": [
    "k_eff_3 = 48    # [W/(m*K)]\n",
    "delta_3 = 5e-3  # [m]\n",
    "R_3 = dH_vap*delta_3/k_eff_3\n",
    "print(f\"R_3 = {R_3: .2e}\")"
   ]
  },
  {
   "cell_type": "markdown",
   "metadata": {},
   "source": [
    "\n",
    "\n",
    "Given the parameters and fixing the saturation and bulk superheat, we can use this to obtain the temperature layer through the regions.\n",
    "\n",
    "## Total resistance\n",
    "If we assume steady state, we know that the mass flux $\\dot{m}$ must be the same for all values of $z$, i.e.\n",
    "\n",
    "$$\n",
    "\\dot{m} = \\frac{(T_s - T_0) }{R_1} = \\frac{(T_c - T_s) }{R_2} = \\frac{(T_b - T_c) }{R_3}\n",
    "$$\n",
    "\n",
    "We can then write the heat flux using an effective resistance,\n",
    "\n",
    "$$\n",
    "\\dot{m} = \\frac{T_b - T_0}{R_1 + R_2 + R_3} = \\frac{T_b - T_0}{R_{tot}}\n",
    "$$"
   ]
  },
  {
   "cell_type": "code",
   "execution_count": 4,
   "metadata": {},
   "outputs": [
    {
     "data": {
      "text/markdown": [
       "Result from computations: \n",
       "\n",
       "$\\dot{q}$ = 2.42 kW/m^2\n",
       "\n",
       "$\\dot{m}$ = 12.15 g/m^2s"
      ]
     },
     "metadata": {},
     "output_type": "display_data"
    }
   ],
   "source": [
    "T_0 = 77.31\n",
    "T_b = T_0 + 3   # 3 K superheat\n",
    "R_tot = R_1 + R_2 + R_3\n",
    "m_dot = (T_b - T_0)/R_tot\n",
    "q_dot = m_dot*dH_vap\n",
    "\n",
    "from IPython.display import display_markdown\n",
    "display_markdown(\n",
    "    \"Result from computations: \\n\\n\" +\n",
    "    f\"$\\dot{{q}}$ = {q_dot*1e-3:.2f} kW/m^2\\n\\n\" +\n",
    "    f\"$\\dot{{m}}$ = {m_dot*1e3:.2f} g/m^2s\",\n",
    "    raw=True\n",
    ")"
   ]
  },
  {
   "cell_type": "code",
   "execution_count": 5,
   "metadata": {},
   "outputs": [
    {
     "data": {
      "image/png": "[encoded data removed]",
      "text/plain": [
       "<Figure size 640x480 with 1 Axes>"
      ]
     },
     "metadata": {},
     "output_type": "display_data"
    }
   ],
   "source": [
    "import matplotlib.pyplot as plt\n",
    "import numpy as np\n",
    "\n",
    "T_s = T_0 + q_dot*R_1/dH_vap\n",
    "T_c = T_s + q_dot*R_2/dH_vap\n",
    "T_b = T_c + q_dot*R_3/dH_vap\n",
    "\n",
    "plt.vlines(T_0, -1.5*delta_3*1e3, 0.5e3*delta_3, color='C2', ls='dashed', label=\"$T_0$\")\n",
    "plt.vlines(T_c, -delta_2*1e3, 0.5e3*delta_3, color='C3', ls='dashed', label=\"$T_c$\")\n",
    "plt.vlines(T_b, -delta_3*1e3, 0.5e3*delta_3, color='C4', ls='dashed', label=\"$T_b$\")\n",
    "plt.plot(np.array([T_s, T_s, T_s, T_c, T_b, T_b]), \n",
    "         1e3*np.array([0.5*delta_3, 0, -delta_1, -delta_2, -delta_3, -1.5*delta_3]), \n",
    "         'k-', label='T(z)')\n",
    "\n",
    "plt.annotate('', xy=(T_0, -6), xytext=(T_b, -6), \n",
    "            arrowprops=dict(arrowstyle='<|-|>', lw=1.5, color='black'))\n",
    "plt.text((T_b + T_0)/2, -6.5, r'$\\Delta T$', horizontalalignment='center', verticalalignment='center')\n",
    "\n",
    "plt.xlabel(\"Temperature [K]\")\n",
    "plt.ylabel(\"Position, $z$ [mm]\")\n",
    "plt.grid()\n",
    "plt.legend(ncol=4, loc='upper center')\n",
    "plt.show()"
   ]
  },
  {
   "cell_type": "markdown",
   "metadata": {},
   "source": []
  }
 ],
 "metadata": {
  "kernelspec": {
   "display_name": "Python 3",
   "language": "python",
   "name": "python3"
  },
  "language_info": {
   "codemirror_mode": {
    "name": "ipython",
    "version": 3
   },
   "file_extension": ".py",
   "mimetype": "text/x-python",
   "name": "python",
   "nbconvert_exporter": "python",
   "pygments_lexer": "ipython3",
   "version": "3.10.6"
  }
 },
 "nbformat": 4,
 "nbformat_minor": 2
}
